{
 "cells": [
  {
   "cell_type": "code",
   "execution_count": 1,
   "id": "a28ec62f",
   "metadata": {},
   "outputs": [],
   "source": [
    "import boto3\n",
    "from boto3.dynamodb.conditions import Key, Attr\n",
    "\n",
    "dynamoDB = boto3.resource(\"dynamodb\")\n",
    "table = dynamoDB.Table(\"demo_table\")"
   ]
  },
  {
   "cell_type": "markdown",
   "id": "97bc7571",
   "metadata": {},
   "source": [
    "### Create Item"
   ]
  },
  {
   "cell_type": "code",
   "execution_count": 2,
   "id": "14109154",
   "metadata": {},
   "outputs": [
    {
     "data": {
      "text/plain": [
       "{'ResponseMetadata': {'RequestId': 'K192F4CQ7KOFOESQ7CTJHJ06ARVV4KQNSO5AEMVJF66Q9ASUAAJG',\n",
       "  'HTTPStatusCode': 200,\n",
       "  'HTTPHeaders': {'server': 'Server',\n",
       "   'date': 'Sun, 22 Jun 2025 16:17:26 GMT',\n",
       "   'content-type': 'application/x-amz-json-1.0',\n",
       "   'content-length': '2',\n",
       "   'connection': 'keep-alive',\n",
       "   'x-amzn-requestid': 'K192F4CQ7KOFOESQ7CTJHJ06ARVV4KQNSO5AEMVJF66Q9ASUAAJG',\n",
       "   'x-amz-crc32': '2745614147'},\n",
       "  'RetryAttempts': 0}}"
      ]
     },
     "execution_count": 2,
     "metadata": {},
     "output_type": "execute_result"
    }
   ],
   "source": [
    "table.put_item(\n",
    "    Item={\n",
    "        'user_id' : 'USER#002',\n",
    "        'user_type': 'store_keeper',\n",
    "        'firstname' : 'Cleetus',\n",
    "        'lastname' : 'McFarland'\n",
    "    }\n",
    ")"
   ]
  },
  {
   "cell_type": "markdown",
   "id": "20793069",
   "metadata": {},
   "source": [
    "### Batch Writer           \n",
    "* Automatically manage retries, batching into 25 item batches etc.."
   ]
  },
  {
   "cell_type": "code",
   "execution_count": 23,
   "id": "dc31d25a",
   "metadata": {},
   "outputs": [],
   "source": [
    "items = [\n",
    "    {'user_id': 'USER#003', 'user_type': 'store_keeper', 'firstname': 'Alice', 'age': 30},\n",
    "    {'user_id': 'USER#004', 'user_type': 'store_keeper', 'firstname': 'Bob', 'age': 25},\n",
    "    {'user_id': 'USER#005', 'user_type': 'store_keeper', 'firstname': 'Charlie', 'age': 35},\n",
    "]\n",
    "\n",
    "with table.batch_writer() as batch:\n",
    "    for item in items:\n",
    "        batch.put_item(Item=item)"
   ]
  },
  {
   "cell_type": "markdown",
   "id": "5669293d",
   "metadata": {},
   "source": [
    "### Read Item                \n",
    "* If the table have both a partition key and a sort key both keys must be provided\n",
    "* If the requested item is not there in the table, response item will be none. "
   ]
  },
  {
   "cell_type": "code",
   "execution_count": 9,
   "id": "cd27ef9f",
   "metadata": {},
   "outputs": [
    {
     "name": "stdout",
     "output_type": "stream",
     "text": [
      "item:{'firstname': 'James', 'lastname': 'Tyler', 'user_id': 'USER#001', 'user_type': 'admin'}\n",
      "response:{'Item': {'firstname': 'James', 'lastname': 'Tyler', 'user_id': 'USER#001', 'user_type': 'admin'}, 'ResponseMetadata': {'RequestId': 'BKG6PTS0IUIRO1OULQU1IVO3V7VV4KQNSO5AEMVJF66Q9ASUAAJG', 'HTTPStatusCode': 200, 'HTTPHeaders': {'server': 'Server', 'date': 'Sun, 22 Jun 2025 16:33:47 GMT', 'content-type': 'application/x-amz-json-1.0', 'content-length': '114', 'connection': 'keep-alive', 'x-amzn-requestid': 'BKG6PTS0IUIRO1OULQU1IVO3V7VV4KQNSO5AEMVJF66Q9ASUAAJG', 'x-amz-crc32': '1272210920'}, 'RetryAttempts': 0}}\n",
      "\n",
      "\n",
      "item:None\n",
      "type:<class 'NoneType'>\n",
      "response:{'ResponseMetadata': {'RequestId': 'PSNH80EP1F3F6AG5I6NCHA1J37VV4KQNSO5AEMVJF66Q9ASUAAJG', 'HTTPStatusCode': 200, 'HTTPHeaders': {'server': 'Server', 'date': 'Sun, 22 Jun 2025 16:33:47 GMT', 'content-type': 'application/x-amz-json-1.0', 'content-length': '2', 'connection': 'keep-alive', 'x-amzn-requestid': 'PSNH80EP1F3F6AG5I6NCHA1J37VV4KQNSO5AEMVJF66Q9ASUAAJG', 'x-amz-crc32': '2745614147'}, 'RetryAttempts': 0}}\n"
     ]
    }
   ],
   "source": [
    "response = table.get_item(\n",
    "    Key = {\n",
    "        'user_id':'USER#001',\n",
    "        'user_type':'admin'\n",
    "    }\n",
    ")\n",
    "item = response.get('Item')\n",
    "print(f\"item:{item}\\nresponse:{response}\")\n",
    "\n",
    "response = table.get_item(\n",
    "    Key = {\n",
    "        'user_id':'USER#002',\n",
    "        'user_type':'admin'\n",
    "    }\n",
    ")\n",
    "item = response.get('Item')\n",
    "print(f\"\\n\\nitem:{item}\\ntype:{type(item)}\\nresponse:{response}\")"
   ]
  },
  {
   "cell_type": "markdown",
   "id": "471c3606",
   "metadata": {},
   "source": [
    "### Query"
   ]
  },
  {
   "cell_type": "markdown",
   "id": "79e77c9e",
   "metadata": {},
   "source": [
    "#### Partition Key"
   ]
  },
  {
   "cell_type": "code",
   "execution_count": 17,
   "id": "66b16f1e",
   "metadata": {},
   "outputs": [
    {
     "name": "stdout",
     "output_type": "stream",
     "text": [
      "{'firstname': 'James', 'lastname': 'Tyler', 'user_id': 'USER#001', 'user_type': 'admin'}\n"
     ]
    }
   ],
   "source": [
    "response = table.query(\n",
    "    KeyConditionExpression=Key('user_id').eq('USER#001') \n",
    ")\n",
    "\n",
    "for item in response.get('Items'):\n",
    "    print(item)"
   ]
  },
  {
   "cell_type": "markdown",
   "id": "cb1ec63a",
   "metadata": {},
   "source": [
    "#### Partition Key and Sort Key"
   ]
  },
  {
   "cell_type": "code",
   "execution_count": 18,
   "id": "69815889",
   "metadata": {},
   "outputs": [
    {
     "name": "stdout",
     "output_type": "stream",
     "text": [
      "{'firstname': 'James', 'lastname': 'Tyler', 'user_id': 'USER#001', 'user_type': 'admin'}\n"
     ]
    }
   ],
   "source": [
    "response = table.query(\n",
    "    KeyConditionExpression=Key('user_id').eq('USER#001') & Key('user_type').eq('admin')\n",
    ")\n",
    "\n",
    "for item in response.get('Items'):\n",
    "    print(item)"
   ]
  },
  {
   "cell_type": "markdown",
   "id": "0f880817",
   "metadata": {},
   "source": [
    "#### Partion Key and Other Attributes"
   ]
  },
  {
   "cell_type": "code",
   "execution_count": 21,
   "id": "a082afc6",
   "metadata": {},
   "outputs": [
    {
     "name": "stdout",
     "output_type": "stream",
     "text": [
      "{'firstname': 'James', 'lastname': 'Tyler', 'user_id': 'USER#001', 'user_type': 'admin'}\n"
     ]
    }
   ],
   "source": [
    "response = table.query(\n",
    "    KeyConditionExpression=Key('user_id').eq('USER#001'),\n",
    "    FilterExpression = Attr('firstname').eq('James')\n",
    ")\n",
    "for item in response.get('Items'):\n",
    "    print(item)"
   ]
  },
  {
   "cell_type": "markdown",
   "id": "d07ce539",
   "metadata": {},
   "source": [
    "### Scan"
   ]
  },
  {
   "cell_type": "code",
   "execution_count": 22,
   "id": "0d5f8e48",
   "metadata": {},
   "outputs": [
    {
     "name": "stdout",
     "output_type": "stream",
     "text": [
      "{'firstname': 'James', 'lastname': 'Tyler', 'user_id': 'USER#001', 'user_type': 'admin'}\n"
     ]
    }
   ],
   "source": [
    "response = table.scan(\n",
    "    FilterExpression = Attr('firstname').eq('James')\n",
    ")\n",
    "for item in response.get('Items'):\n",
    "    print(item)"
   ]
  },
  {
   "cell_type": "markdown",
   "id": "bf05f17e",
   "metadata": {},
   "source": [
    "### Delete Item"
   ]
  },
  {
   "cell_type": "code",
   "execution_count": 25,
   "id": "7fed69ca",
   "metadata": {},
   "outputs": [
    {
     "data": {
      "text/plain": [
       "{'ResponseMetadata': {'RequestId': '1PF5PSLF01GEJKFRMLQD0KQLL7VV4KQNSO5AEMVJF66Q9ASUAAJG',\n",
       "  'HTTPStatusCode': 200,\n",
       "  'HTTPHeaders': {'server': 'Server',\n",
       "   'date': 'Sun, 22 Jun 2025 17:57:14 GMT',\n",
       "   'content-type': 'application/x-amz-json-1.0',\n",
       "   'content-length': '2',\n",
       "   'connection': 'keep-alive',\n",
       "   'x-amzn-requestid': '1PF5PSLF01GEJKFRMLQD0KQLL7VV4KQNSO5AEMVJF66Q9ASUAAJG',\n",
       "   'x-amz-crc32': '2745614147'},\n",
       "  'RetryAttempts': 0}}"
      ]
     },
     "execution_count": 25,
     "metadata": {},
     "output_type": "execute_result"
    }
   ],
   "source": [
    "table.delete_item(\n",
    "    Key={\n",
    "        'user_id':'USER#004',\n",
    "        'user_type':'store keeper'\n",
    "    }\n",
    ")"
   ]
  },
  {
   "cell_type": "markdown",
   "id": "57599041",
   "metadata": {},
   "source": [
    "### GIS"
   ]
  },
  {
   "cell_type": "code",
   "execution_count": null,
   "id": "aab61f49",
   "metadata": {},
   "outputs": [],
   "source": []
  },
  {
   "cell_type": "markdown",
   "id": "9a2f8bdd",
   "metadata": {},
   "source": [
    "### LIS"
   ]
  },
  {
   "cell_type": "code",
   "execution_count": null,
   "id": "68795725",
   "metadata": {},
   "outputs": [],
   "source": []
  }
 ],
 "metadata": {
  "kernelspec": {
   "display_name": "venv",
   "language": "python",
   "name": "python3"
  },
  "language_info": {
   "codemirror_mode": {
    "name": "ipython",
    "version": 3
   },
   "file_extension": ".py",
   "mimetype": "text/x-python",
   "name": "python",
   "nbconvert_exporter": "python",
   "pygments_lexer": "ipython3",
   "version": "3.11.3"
  }
 },
 "nbformat": 4,
 "nbformat_minor": 5
}
